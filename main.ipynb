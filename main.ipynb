{
 "cells": [
  {
   "cell_type": "code",
   "execution_count": null,
   "metadata": {},
   "outputs": [],
   "source": [
    "# Simulation for SAT solving shardware\n",
    "# reference: Shim, Chaeyun, Jooyoung Bae, and Bongjin Kim. \"30.3 VIP-Sat: A Boolean Satisfiability Solver Featuring 5× 12 Variable In-Memory Processing Elements with 98% Solvability for 50-Variables 218-Clauses 3-SAT Problems.\" 2024 IEEE International Solid-State Circuits Conference (ISSCC). Vol. 67. IEEE, 2024."
   ]
  },
  {
   "cell_type": "code",
   "execution_count": null,
   "metadata": {},
   "outputs": [],
   "source": [
    "# 데이터셋 위치  \n",
    "# /data2/sat/uf50-218  \n",
    "# /data2/sat/uf20-91 \n",
    "# 출처: https://www.cs.ubc.ca/~hoos/SATLIB/benchm.html"
   ]
  },
  {
   "cell_type": "code",
   "execution_count": null,
   "metadata": {},
   "outputs": [],
   "source": []
  }
 ],
 "metadata": {
  "kernelspec": {
   "display_name": "aedat2",
   "language": "python",
   "name": "python3"
  },
  "language_info": {
   "name": "python",
   "version": "3.8.18"
  }
 },
 "nbformat": 4,
 "nbformat_minor": 2
}
